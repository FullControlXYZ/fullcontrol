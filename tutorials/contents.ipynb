{
    "cells": [
        {
            "attachments": {},
            "cell_type": "markdown",
            "metadata": {},
            "source": [
                "## notebooks\n",
                " \n",
                "the following tutorials introduce the concept of FullControl, walk through its capabilities, and give tips for creating designs in FullControl\n",
                "\n",
                "they refer to ***designs***, ***state***, ***things*** and ***results***  which are defined in the broad overview tutorial notebook\n",
                "\n",
                "links will work in vscode, jupyter lab, etc. - the notebooks can also be accessed [online](https://github.com/FullControlXYZ/fullcontrol/tree/master/tutorials) and run in google colab\n",
                "\n",
                "#### introductory documentation:\n",
                "1. one-minute introduction to FullControl - [fast_demo.ipynb](fast_demo.ipynb)\n",
                "1. broad overview of FullControl - [overview.ipynb](overview.ipynb)\n",
                "\n",
                "#### technical use of FullControl:\n",
                "1. create a ***design*** in FullControl with built-in objects - [state_objects.ipynb](state_objects.ipynb)\n",
                "1. format gcode - [gcode_controls.ipynb](gcode_controls.ipynb)\n",
                "    - controls that can be used to adjust how a FullControl ***design*** is transsformed into a 'gcode' ***result***\n",
                "1. format plots - [plot_controls.ipynb](plot_controls.ipynb)\n",
                "    - controls that can be used to adjust how a FullControl ***design*** is transformed into a 'plot' ***result***\n",
                "1. geometric modeling functions - [geometry_functions.ipynb](geometry_functions.ipynb)\n",
                "    - demonstration of built-in geometry functions that can be used to create, modify or measure points (or lists of points)\n",
                "1. other FullControl functions - [other_functions.ipynb](other_functions.ipynb)\n",
                "\n",
                "#### tips and examples:\n",
                "1. design tips - [design_tips.ipynb](design_tips.ipynb)\n",
                "1. example model (nonplanar spacer) - [nonplanar_spacer.ipynb](../models/nonplanar_spacer.ipynb)\n",
                "1. example model (nuts and bolts) - [nuts_and_bolts.ipynb](../models/nuts_and_bolts.ipynb)\n",
                "1. design template - [design_template.ipynb](../models/design_template.ipynb)\n",
                "1. design template for use in colab - [design_template_colab.ipynb](https://colab.research.google.com/github/FullControlXYZ/fullcontrol/blob/master/models/colab/design_template_colab.ipynb)\n",
                "1. more designs are available on the fullcontrol [gists page](https://gist.github.com/fullcontrol-xyz)\n",
                "\n",
                "#### FullControl lab:\n",
                "1. FullControl lab geometry - [lab_geometry.ipynb](lab_geometry.ipynb)\n",
                "1. four-axis example - [lab_four_axis_demo.ipynb](lab_four_axis_demo.ipynb)\n",
                "1. five-axis example - [lab_five_axis_demo.ipynb](lab_five_axis_demo.ipynb)\n",
                "1. stl output - [lab_stl_output.ipynb](lab_stl_output.ipynb)\n",
                "1. 3mf output - [lab_3mf_output.ipynb](lab_3mf_output.ipynb)\n",
                "\n",
                "See the [FullControl github repository](https://github.com/FullControlXYZ/fullcontrol#readme)"
            ]
        }
    ],
    "metadata": {
        "kernelspec": {
            "display_name": "fc",
            "language": "python",
            "name": "python3"
        },
        "language_info": {
            "name": "python",
            "version": "3.9.12"
        },
        "orig_nbformat": 4,
        "vscode": {
            "interpreter": {
                "hash": "2b13a99eb0d91dd901c683fa32c6210ac0c6779bab056ce7c570b3b366dfe237"
            }
        }
    },
    "nbformat": 4,
    "nbformat_minor": 2
}
