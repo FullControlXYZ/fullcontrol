{
    "cells": [
        {
            "attachments": {},
            "cell_type": "markdown",
            "metadata": {},
            "source": [
                "## notebooks\n",
                " \n",
                "the following tutorials introduce the concept of FullControl, walk through its capabilities, and give tips for creating designs in FullControl\n",
                "\n",
                "they refer to ***designs***, ***state***, ***things*** and ***results***  which are defined in the broad overview tutorial notebook\n",
                "\n",
                "\n",
                "\n",
                "#### introductory documentation:\n",
                "1. one-minute introduction to FullControl - [fast_demo.ipynb](https://colab.research.google.com/github/FullControlXYZ/fullcontrol/blob/master/tutorials/colab/fast_demo_colab.ipynb)\n",
                "1. broad overview of FullControl - [overview.ipynb](https://colab.research.google.com/github/FullControlXYZ/fullcontrol/blob/master/tutorials/colab/overview_colab.ipynb)\n",
                "\n",
                "#### technical use of FullControl:\n",
                "1. create a ***design*** in FullControl with built-in objects - [state_objects.ipynb](https://colab.research.google.com/github/FullControlXYZ/fullcontrol/blob/master/tutorials/colab/state_objects_colab.ipynb)\n",
                "1. format gcode - [gcode_controls.ipynb](https://colab.research.google.com/github/FullControlXYZ/fullcontrol/blob/master/tutorials/colab/gcode_controls_colab.ipynb)\n",
                "    - controls that can be used to adjust how a FullControl ***design*** is transsformed into a 'gcode' ***result***\n",
                "1. format plots - [plot_controls.ipynb](https://colab.research.google.com/github/FullControlXYZ/fullcontrol/blob/master/tutorials/colab/plot_controls_colab.ipynb)\n",
                "    - controls that can be used to adjust how a FullControl ***design*** is transformed into a 'plot' ***result***\n",
                "1. geometric modeling functions - [geometry_functions.ipynb](https://colab.research.google.com/github/FullControlXYZ/fullcontrol/blob/master/tutorials/colab/geometry_functions_colab.ipynb)\n",
                "    - demonstration of built-in geometry functions that can be used to create, modify or measure points (or lists of points)\n",
                "1. other FullControl functions - [other_functions.ipynb](https://colab.research.google.com/github/FullControlXYZ/fullcontrol/blob/master/tutorials/colab/other_functions_colab.ipynb)\n",
                "\n",
                "#### tips and examples:\n",
                "1. design tips - [design_tips.ipynb](https://colab.research.google.com/github/FullControlXYZ/fullcontrol/blob/master/tutorials/colab/design_tips_colab.ipynb)\n",
                "1. example model (nonplanar spacer) - [nonplanar_spacer.ipynb](https://colab.research.google.com/github/FullControlXYZ/fullcontrol/blob/master/models/colab/nonplanar_spacer_colab.ipynb)\n",
                "1. example model (nuts and bolts) - [nuts_and_bolts.ipynb](https://colab.research.google.com/github/FullControlXYZ/fullcontrol/blob/master/models/colab/nuts_and_bolts_colab.ipynb)\n",
                "1. design template - [design_template.ipynb](https://github.com/FullControlXYZ/fullcontrol/blob/master/models/design_template.ipynb)\n",
                "1. design template for use in colab - [design_template_colab.ipynb](https://colab.research.google.com/github/FullControlXYZ/fullcontrol/blob/master/models/colab/design_template_colab.ipynb)\n",
                "1. more designs are available on the fullcontrol [gists page](https://gist.github.com/fullcontrol-xyz)\n",
                "\n",
                "#### FullControl lab:\n",
                "1. FullControl lab geometry - [lab_geometry.ipynb](https://colab.research.google.com/github/FullControlXYZ/fullcontrol/blob/master/tutorials/colab/lab_geometry_colab.ipynb)\n",
                "1. four-axis example - [lab_four_axis_demo.ipynb](https://colab.research.google.com/github/FullControlXYZ/fullcontrol/blob/master/tutorials/colab/lab_four_axis_demo_colab.ipynb)\n",
                "1. five-axis example - [lab_five_axis_demo.ipynb](https://colab.research.google.com/github/FullControlXYZ/fullcontrol/blob/master/tutorials/colab/lab_five_axis_demo_colab.ipynb)\n",
                "1. stl output - [lab_stl_output.ipynb](https://colab.research.google.com/github/FullControlXYZ/fullcontrol/blob/master/tutorials/colab/lab_stl_output_colab.ipynb)\n",
                "1. 3mf output - [lab_3mf_output.ipynb](https://colab.research.google.com/github/FullControlXYZ/fullcontrol/blob/master/tutorials/colab/lab_3mf_output_colab.ipynb)\n",
                "\n",
                "See the [FullControl github repository](https://github.com/FullControlXYZ/fullcontrol#readme)"
            ]
        }
    ],
    "metadata": {
        "kernelspec": {
            "display_name": "fc",
            "language": "python",
            "name": "python3"
        },
        "language_info": {
            "name": "python",
            "version": "3.9.12"
        },
        "orig_nbformat": 4,
        "vscode": {
            "interpreter": {
                "hash": "2b13a99eb0d91dd901c683fa32c6210ac0c6779bab056ce7c570b3b366dfe237"
            }
        }
    },
    "nbformat": 4,
    "nbformat_minor": 2
}
