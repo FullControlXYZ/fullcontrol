{
  "cells": [
    {
      "attachments": {},
      "cell_type": "markdown",
      "metadata": {
        "id": "ac9_FmrCOwQL"
      },
      "source": [
        "# FullControl Bambulab Template\n",
        "\n",
        "*insert date*"
      ]
    },
    {
      "cell_type": "markdown",
      "metadata": {},
      "source": []
    },
    {
      "cell_type": "markdown",
      "metadata": {},
      "source": [
        "#### imports"
      ]
    },
    {
      "cell_type": "code",
      "execution_count": 49,
      "metadata": {
        "id": "57XXnogSOvDx"
      },
      "outputs": [],
      "source": [
        "import fullcontrol as fc\n",
        "from math import tau, sin, sqrt"
      ]
    },
    {
      "cell_type": "markdown",
      "metadata": {},
      "source": [
        "#### print / gcode parameters for bambulab printers"
      ]
    },
    {
      "cell_type": "code",
      "execution_count": 50,
      "metadata": {},
      "outputs": [],
      "source": [
        "design_name = 'template'\n",
        "# target = 'plot'\n",
        "target = 'gcode'\n",
        "\n",
        "printer_name='bambulab_p1'  # bambulab_x1 / bambulab_p1\n",
        "material_type = 'petg'\n",
        "nozzle_temp = 270\n",
        "bed_temp = 70\n",
        "print_speed = 1000\n",
        "print_speed_percent = 225\n",
        "parts_fan_percent = 40\n",
        "aux_fan_percent = 0\n",
        "chamber_fan_percent = 30\n",
        "\n",
        "fan_off_layers = 1         # parts fan turns on after this layer"
      ]
    },
    {
      "cell_type": "markdown",
      "metadata": {},
      "source": [
        "#### design parameters"
      ]
    },
    {
      "cell_type": "code",
      "execution_count": 51,
      "metadata": {
        "id": "DeWKjlzbPC0u"
      },
      "outputs": [],
      "source": [
        "EW = 0.4 # extrusion width\n",
        "EH = 0.2 # extrusion height (and layer height)\n",
        "initial_z = EH*0.6 # initial nozzle position is set to 0.6x the extrusion height to get a bit of 'squish' for good bed adhesion\n",
        "model_height = 140\n",
        "layers = int(model_height / EH)"
      ]
    },
    {
      "cell_type": "markdown",
      "metadata": {},
      "source": [
        "#### generate the design"
      ]
    },
    {
      "cell_type": "code",
      "execution_count": 52,
      "metadata": {
        "id": "kLPh7aTwQKrF"
      },
      "outputs": [],
      "source": [
        "steps = []\n",
        "for layer in range(layers):\n",
        "  layer_z = initial_z + layer * EH\n",
        "  steps.append(fc.Point(x=50, y=50, z=layer_z))\n",
        "  steps.append(fc.Point(x=100, y=50, z=layer_z))\n",
        "  steps.append(fc.Point(x=100, y=100, z=layer_z))\n",
        "  steps.append(fc.Point(x=50, y=100, z=layer_z))\n",
        "  steps.append(fc.Point(x=50, y=50, z=layer_z))\n",
        "  steps.append(fc.ManualGcode(text=f'M73 P{layer / layers} L{layer}'))\n",
        "  \n",
        "# instead of the above for-loop code, you can create the exact same design using built-in FullControl functions (uncomment the next two lines):\n",
        "# rectangle_steps = fc.rectangleXY(fc.Point(x=50, y=50, z=initial_z), 50, 50)\n",
        "# steps = fc.move(rectangle_steps, fc.Vector(z=EH), copy=True, copy_quantity=layers)"
      ]
    },
    {
      "cell_type": "markdown",
      "metadata": {},
      "source": [
        "#### preview or generate gcode"
      ]
    },
    {
      "cell_type": "code",
      "execution_count": 53,
      "metadata": {
        "id": "ZVdfnpt5RSUi"
      },
      "outputs": [],
      "source": [
        "# preview the design\n",
        "\n",
        "if target == 'plot':\n",
        "    steps.append(fc.PlotAnnotation(label='finish'))\n",
        "    steps.append(fc.PlotAnnotation(point=steps[0], label='start'))\n",
        "\n",
        "    # a default line plot to check the toolhead path of the geometry\n",
        "    fc.transform(steps, 'plot', fc.PlotControls(color_type='print_sequence', style='line', line_width=0.5, zoom=0.5))\n",
        "\n",
        "    # a plot with real heights/widths for extruded lines to preview the real 3D printed geometry\n",
        "    # fc.transform(steps, 'plot', fc.PlotControls(style='tube', tube_sides=8, zoom=0.6, initialization_data={'extrusion_width': EW, 'extrusion_height': EH}))\n",
        "    # fc.transform(steps, 'plot', fc.PlotControls(style='tube', tube_sides=8, zoom=0.6, initialization_data={'extrusion_width': 0.1, 'extrusion_height': 0.1}))\n",
        "\n",
        "    # a neat preview (click the top-left button in the plot for a .png file)\n",
        "    # fc.transform(steps, 'plot', fc.PlotControls(neat_for_publishing=True, zoom=0.5, initialization_data={'extrusion_width': EW, 'extrusion_height': EH}))\n"
      ]
    },
    {
      "cell_type": "code",
      "execution_count": 54,
      "metadata": {
        "colab": {
          "base_uri": "https://localhost:8080/",
          "height": 17
        },
        "id": "tggFoUeJReQR",
        "outputId": "3e9733ce-224b-4aa9-abe7-d54bca6a0a96"
      },
      "outputs": [],
      "source": [
        "# generate and save gcode\n",
        "\n",
        "if target == 'gcode':\n",
        "    gcode_controls = fc.GcodeControls(\n",
        "        printer_name=printer_name,\n",
        "        save_as='fc_' + material_type + '_' + design_name,\n",
        "        initialization_data={\n",
        "            'model_height': model_height,\n",
        "            'bed_type': \"Textured PEI Plate\",\n",
        "            'material_type': material_type,\n",
        "            'nozzle_temp': nozzle_temp,\n",
        "            'bed_temp': bed_temp,\n",
        "            'print_speed': print_speed,\n",
        "            'print_speed_percent': print_speed_percent,\n",
        "            'parts_fan_percent': parts_fan_percent,\n",
        "            'aux_fan_percent': aux_fan_percent,\n",
        "            'chamber_fan_percent': chamber_fan_percent,\n",
        "            'extrusion_width': EW,\n",
        "            'extrusion_height': EH,\n",
        "            'primer': 'front_lines_then_y'})\n",
        "    gcode = fc.transform(steps, 'gcode', gcode_controls)"
      ]
    },
    {
      "attachments": {},
      "cell_type": "markdown",
      "metadata": {},
      "source": [
        "#### please tell us what you're doing with FullControl!\n",
        "\n",
        "- tag FullControlXYZ on social media ([twitter](https://twitter.com/FullControlXYZ), [instagram](https://www.instagram.com/fullcontrolxyz/), [linkedin](https://www.linkedin.com/in/andrew-gleadall-068587119/), [tiktok](https://www.tiktok.com/@fullcontrolxyz))\n",
        "- email [info@fullcontrol.xyz](mailto:info@fullcontrol.xyz)\n",
        "- post on the [subreddit](https://reddit.com/r/fullcontrol)\n",
        "- post in the [github discussions or issues tabs](https://github.com/FullControlXYZ/fullcontrol/issues)\n",
        "\n",
        "in publications, please cite the original FullControl paper and the github repo for the new python version:\n",
        "\n",
        "- Gleadall, A. (2021). FullControl GCode Designer: open-source software for unconstrained design in additive manufacturing. Additive Manufacturing, 46, 102109. \n",
        "- Gleadall, A. and Leas, D. (2023). FullControl [electronic resource: python source code]. available at: https://github.com/FullControlXYZ/fullcontrol"
      ]
    }
  ],
  "metadata": {
    "colab": {
      "include_colab_link": true,
      "provenance": []
    },
    "kernelspec": {
      "display_name": "Python 3",
      "name": "python3"
    },
    "language_info": {
      "codemirror_mode": {
        "name": "ipython",
        "version": 3
      },
      "file_extension": ".py",
      "mimetype": "text/x-python",
      "name": "python",
      "nbconvert_exporter": "python",
      "pygments_lexer": "ipython3",
      "version": "3.12.4"
    }
  },
  "nbformat": 4,
  "nbformat_minor": 0
}
